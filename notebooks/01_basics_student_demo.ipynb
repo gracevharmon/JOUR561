{
 "cells": [
  {
   "cell_type": "markdown",
   "id": "98077971-87b9-4dfc-9afe-06ed3f92a28f",
   "metadata": {},
   "source": [
    "# Week 4: An intro to Python, Pandas and Jupyter "
   ]
  },
  {
   "cell_type": "markdown",
   "id": "178eff46-37f3-429e-bde5-c5507a1db115",
   "metadata": {},
   "source": [
    "## Environment basics\n",
    "- Class [Github repo](https://github.com/stiles/usc)\n",
    "- Structure and workflow\n",
    "- Clone repo using Github Desktop | [documentation](https://docs.github.com/en/desktop/contributing-and-collaborating-using-github-desktop/adding-and-cloning-repositories/cloning-a-repository-from-github-to-github-desktop)\n",
    "- Set a directory structure locally and stick to it!"
   ]
  },
  {
   "cell_type": "markdown",
   "id": "c2d222dd-5afe-46a9-9437-b293062641c3",
   "metadata": {},
   "source": [
    "### Jupyter Lab interface basics\n",
    "- Directory pane\n",
    "- [Documentation](https://jupyterlab.readthedocs.io/en/stable/)\n",
    "- Typing and executing code in cells\n",
    "- Cell types\n",
    "- Running/restarting a notebook\n",
    "- Markdown/documentation\n",
    "- Keyboard shortcuts\n",
    "- Copy/paste cells"
   ]
  },
  {
   "cell_type": "markdown",
   "id": "ec3c201c-7865-4776-bdae-e96a068d5b87",
   "metadata": {},
   "source": [
    "### Import Python tools\n",
    "These are the Python libraries we will use to complete our work. Here we only need to import [Pandas](https://pandas.pydata.org/docs/getting_started/index.html#getting-started). "
   ]
  },
  {
   "cell_type": "code",
   "execution_count": 1,
   "id": "935de077-06e7-4310-8331-92f9b9d525b4",
   "metadata": {},
   "outputs": [],
   "source": [
    "import pandas as pd"
   ]
  },
  {
   "cell_type": "code",
   "execution_count": 2,
   "id": "cb000b07-059d-491c-ae7f-f2771aac1335",
   "metadata": {},
   "outputs": [],
   "source": [
    "### ask matt what this means, was confused last time"
   ]
  },
  {
   "cell_type": "markdown",
   "id": "e772d16e-565c-48b7-828e-6460f09912ee",
   "metadata": {
    "tags": []
   },
   "source": [
    "### Now what? "
   ]
  },
  {
   "cell_type": "markdown",
   "id": "3eb18dbd-e47d-46f6-aa22-79d14175c6fa",
   "metadata": {},
   "source": [
    "#### Let's start with simple math"
   ]
  },
  {
   "cell_type": "code",
   "execution_count": 3,
   "id": "28a8f785-446d-4fa0-a576-0093dacc8408",
   "metadata": {},
   "outputs": [
    {
     "data": {
      "text/plain": [
       "111.0"
      ]
     },
     "execution_count": 3,
     "metadata": {},
     "output_type": "execute_result"
    }
   ],
   "source": [
    "777 / 7"
   ]
  },
  {
   "cell_type": "code",
   "execution_count": 4,
   "id": "9fb50d9c-b9ce-4d4d-adc4-3c463cb6efae",
   "metadata": {},
   "outputs": [
    {
     "data": {
      "text/plain": [
       "67"
      ]
     },
     "execution_count": 4,
     "metadata": {},
     "output_type": "execute_result"
    }
   ],
   "source": [
    "60 + 7"
   ]
  },
  {
   "cell_type": "code",
   "execution_count": 5,
   "id": "68f14b46-b3c4-409f-a968-8e7b042edef1",
   "metadata": {},
   "outputs": [
    {
     "data": {
      "text/plain": [
       "-6"
      ]
     },
     "execution_count": 5,
     "metadata": {},
     "output_type": "execute_result"
    }
   ],
   "source": [
    "3 - 9"
   ]
  },
  {
   "cell_type": "markdown",
   "id": "9fa9039d-5b11-4135-b91c-d280891c36a7",
   "metadata": {},
   "source": [
    "#### Defining a variable"
   ]
  },
  {
   "cell_type": "code",
   "execution_count": 6,
   "id": "9512d64e-b1d7-4693-b147-cea23eb149d6",
   "metadata": {},
   "outputs": [],
   "source": [
    "number = 100"
   ]
  },
  {
   "cell_type": "code",
   "execution_count": 7,
   "id": "efa4fb77-cd63-47ae-ab6b-6fcdeb5a428f",
   "metadata": {},
   "outputs": [
    {
     "name": "stdout",
     "output_type": "stream",
     "text": [
      "100\n"
     ]
    }
   ],
   "source": [
    "print(number)"
   ]
  },
  {
   "cell_type": "markdown",
   "id": "9bb9bcce-a789-47d3-ae3d-b7ac9882ad4e",
   "metadata": {},
   "source": [
    "#### Conduct a simple data analysis"
   ]
  },
  {
   "cell_type": "code",
   "execution_count": 8,
   "id": "2b3ebc8b-d51d-4741-9726-5189f2d19d4b",
   "metadata": {},
   "outputs": [],
   "source": [
    "my_list = [2, 4, 6, 8, 10, 12, 14,16]"
   ]
  },
  {
   "cell_type": "code",
   "execution_count": 9,
   "id": "a91582b6-d124-4b8d-8450-b22f4f404b98",
   "metadata": {},
   "outputs": [
    {
     "data": {
      "text/plain": [
       "[2, 4, 6, 8, 10, 12, 14, 16]"
      ]
     },
     "execution_count": 9,
     "metadata": {},
     "output_type": "execute_result"
    }
   ],
   "source": [
    "my_list"
   ]
  },
  {
   "cell_type": "code",
   "execution_count": 10,
   "id": "1fed6ac1-6e2d-4521-a46e-676f1a7b6ca4",
   "metadata": {},
   "outputs": [],
   "source": [
    "my_series = pd.Series(my_list)"
   ]
  },
  {
   "cell_type": "code",
   "execution_count": 11,
   "id": "a9b90083-4721-47be-8cee-5227c56b744e",
   "metadata": {},
   "outputs": [
    {
     "data": {
      "text/plain": [
       "0     2\n",
       "1     4\n",
       "2     6\n",
       "3     8\n",
       "4    10\n",
       "5    12\n",
       "6    14\n",
       "7    16\n",
       "dtype: int64"
      ]
     },
     "execution_count": 11,
     "metadata": {},
     "output_type": "execute_result"
    }
   ],
   "source": [
    "my_series"
   ]
  },
  {
   "cell_type": "code",
   "execution_count": 12,
   "id": "ab3cf535-2900-4480-837c-b5f65d9ec778",
   "metadata": {},
   "outputs": [],
   "source": [
    "# my_series = pd.Series(np.random.randint(10, 1000,size=100000000))"
   ]
  },
  {
   "cell_type": "code",
   "execution_count": null,
   "id": "e0bfc6db-3a83-4d82-8a7e-1c86b3c91d44",
   "metadata": {},
   "outputs": [],
   "source": []
  },
  {
   "cell_type": "markdown",
   "id": "f51886bd-2173-4c07-a598-db50f4b62c47",
   "metadata": {},
   "source": [
    "#### Descriptive statistics"
   ]
  },
  {
   "cell_type": "markdown",
   "id": "8f52a44d-1804-47b4-b507-07e07975da18",
   "metadata": {},
   "source": [
    "Once the data becomes a Series, you can immediately run a wide range of [descriptive statistics](https://en.wikipedia.org/wiki/Descriptive_statistics). Let’s try a few."
   ]
  },
  {
   "cell_type": "code",
   "execution_count": 13,
   "id": "b8e2604e-ae2b-4f56-a9b9-c2797d7bf33c",
   "metadata": {},
   "outputs": [
    {
     "data": {
      "text/plain": [
       "72"
      ]
     },
     "execution_count": 13,
     "metadata": {},
     "output_type": "execute_result"
    }
   ],
   "source": [
    "my_series.sum()"
   ]
  },
  {
   "cell_type": "markdown",
   "id": "5af366d0-f24c-49a1-a31c-1ebca51ca714",
   "metadata": {},
   "source": [
    "#### Then find the maximum value in the next"
   ]
  },
  {
   "cell_type": "code",
   "execution_count": 14,
   "id": "8400d337-73c1-4b50-849b-f9a72e86c63a",
   "metadata": {},
   "outputs": [
    {
     "data": {
      "text/plain": [
       "16"
      ]
     },
     "execution_count": 14,
     "metadata": {},
     "output_type": "execute_result"
    }
   ],
   "source": [
    "my_series.max()"
   ]
  },
  {
   "cell_type": "markdown",
   "id": "da16fed0-26db-421d-a0e7-994ae3eeafa6",
   "metadata": {},
   "source": [
    "#### The minimum value in the next"
   ]
  },
  {
   "cell_type": "code",
   "execution_count": 15,
   "id": "dac15093-a102-4b47-bc1f-f6e48fcbc51f",
   "metadata": {},
   "outputs": [
    {
     "data": {
      "text/plain": [
       "2"
      ]
     },
     "execution_count": 15,
     "metadata": {},
     "output_type": "execute_result"
    }
   ],
   "source": [
    "my_series.min()"
   ]
  },
  {
   "cell_type": "markdown",
   "id": "e6a93f1a-cef3-49ea-8ced-9d6b002b79f2",
   "metadata": {},
   "source": [
    "#### How about the average (also known as the mean)? Keep adding cells and calculating new statistics."
   ]
  },
  {
   "cell_type": "code",
   "execution_count": 16,
   "id": "33b4c878-382e-4a5c-860d-72375cd46feb",
   "metadata": {},
   "outputs": [
    {
     "data": {
      "text/plain": [
       "9.0"
      ]
     },
     "execution_count": 16,
     "metadata": {},
     "output_type": "execute_result"
    }
   ],
   "source": [
    "my_series.mean()"
   ]
  },
  {
   "cell_type": "markdown",
   "id": "55931cc5-55cb-47b6-a578-bcce10a13a14",
   "metadata": {},
   "source": [
    "#### The median?"
   ]
  },
  {
   "cell_type": "code",
   "execution_count": 17,
   "id": "25d6f049-c886-4cf5-b38b-fff2298e3549",
   "metadata": {},
   "outputs": [
    {
     "data": {
      "text/plain": [
       "9.0"
      ]
     },
     "execution_count": 17,
     "metadata": {},
     "output_type": "execute_result"
    }
   ],
   "source": [
    "my_series.median()"
   ]
  },
  {
   "cell_type": "markdown",
   "id": "9bdf878c-77e2-41d1-9830-f5ecca1cbe61",
   "metadata": {},
   "source": [
    "#### The standard deviation?"
   ]
  },
  {
   "cell_type": "code",
   "execution_count": 18,
   "id": "2e5d8808-b9b4-47b5-95be-befb52e0bf57",
   "metadata": {},
   "outputs": [
    {
     "data": {
      "text/plain": [
       "4.898979485566356"
      ]
     },
     "execution_count": 18,
     "metadata": {},
     "output_type": "execute_result"
    }
   ],
   "source": [
    "my_series.std()"
   ]
  },
  {
   "cell_type": "markdown",
   "id": "ce27c034-aa3b-4a30-84f6-0c04b5faadcb",
   "metadata": {},
   "source": [
    "####  And all of the above, plus a little more about the distribution, in one simple command."
   ]
  },
  {
   "cell_type": "code",
   "execution_count": 19,
   "id": "33696467-c53a-4d13-9761-7781fd2e43e7",
   "metadata": {},
   "outputs": [
    {
     "data": {
      "text/plain": [
       "count     8.000000\n",
       "mean      9.000000\n",
       "std       4.898979\n",
       "min       2.000000\n",
       "25%       5.500000\n",
       "50%       9.000000\n",
       "75%      12.500000\n",
       "max      16.000000\n",
       "dtype: float64"
      ]
     },
     "execution_count": 19,
     "metadata": {},
     "output_type": "execute_result"
    }
   ],
   "source": [
    "my_series.describe()"
   ]
  },
  {
   "cell_type": "markdown",
   "id": "3f70c84e-9f07-4439-bda7-012cef0e2d57",
   "metadata": {},
   "source": [
    "---"
   ]
  },
  {
   "cell_type": "markdown",
   "id": "d53c3cfa-6ad3-4d1c-a1d8-1a05dc1e586b",
   "metadata": {},
   "source": [
    "## Import data"
   ]
  },
  {
   "cell_type": "markdown",
   "id": "8f32a563-7aa6-4bce-8e94-4faf8174ae56",
   "metadata": {},
   "source": [
    "#### Read a CSV file with members of Congress"
   ]
  },
  {
   "cell_type": "code",
   "execution_count": 20,
   "id": "270bc688-0b4b-4992-8203-6219787fc7c8",
   "metadata": {},
   "outputs": [
    {
     "ename": "FileNotFoundError",
     "evalue": "[Errno 2] No such file or directory: '../../data/raw/members_of_congress_117.csv'",
     "output_type": "error",
     "traceback": [
      "\u001b[0;31m---------------------------------------------------------------------------\u001b[0m",
      "\u001b[0;31mFileNotFoundError\u001b[0m                         Traceback (most recent call last)",
      "\u001b[0;32m<ipython-input-20-7787334b39a0>\u001b[0m in \u001b[0;36m<module>\u001b[0;34m\u001b[0m\n\u001b[0;32m----> 1\u001b[0;31m \u001b[0mdf_csv\u001b[0m \u001b[0;34m=\u001b[0m \u001b[0mpd\u001b[0m\u001b[0;34m.\u001b[0m\u001b[0mread_csv\u001b[0m\u001b[0;34m(\u001b[0m\u001b[0;34m'../../data/raw/members_of_congress_117.csv'\u001b[0m\u001b[0;34m)\u001b[0m\u001b[0;34m\u001b[0m\u001b[0;34m\u001b[0m\u001b[0m\n\u001b[0m",
      "\u001b[0;32m~/opt/anaconda3/lib/python3.8/site-packages/pandas/io/parsers.py\u001b[0m in \u001b[0;36mread_csv\u001b[0;34m(filepath_or_buffer, sep, delimiter, header, names, index_col, usecols, squeeze, prefix, mangle_dupe_cols, dtype, engine, converters, true_values, false_values, skipinitialspace, skiprows, skipfooter, nrows, na_values, keep_default_na, na_filter, verbose, skip_blank_lines, parse_dates, infer_datetime_format, keep_date_col, date_parser, dayfirst, cache_dates, iterator, chunksize, compression, thousands, decimal, lineterminator, quotechar, quoting, doublequote, escapechar, comment, encoding, dialect, error_bad_lines, warn_bad_lines, delim_whitespace, low_memory, memory_map, float_precision, storage_options)\u001b[0m\n\u001b[1;32m    608\u001b[0m     \u001b[0mkwds\u001b[0m\u001b[0;34m.\u001b[0m\u001b[0mupdate\u001b[0m\u001b[0;34m(\u001b[0m\u001b[0mkwds_defaults\u001b[0m\u001b[0;34m)\u001b[0m\u001b[0;34m\u001b[0m\u001b[0;34m\u001b[0m\u001b[0m\n\u001b[1;32m    609\u001b[0m \u001b[0;34m\u001b[0m\u001b[0m\n\u001b[0;32m--> 610\u001b[0;31m     \u001b[0;32mreturn\u001b[0m \u001b[0m_read\u001b[0m\u001b[0;34m(\u001b[0m\u001b[0mfilepath_or_buffer\u001b[0m\u001b[0;34m,\u001b[0m \u001b[0mkwds\u001b[0m\u001b[0;34m)\u001b[0m\u001b[0;34m\u001b[0m\u001b[0;34m\u001b[0m\u001b[0m\n\u001b[0m\u001b[1;32m    611\u001b[0m \u001b[0;34m\u001b[0m\u001b[0m\n\u001b[1;32m    612\u001b[0m \u001b[0;34m\u001b[0m\u001b[0m\n",
      "\u001b[0;32m~/opt/anaconda3/lib/python3.8/site-packages/pandas/io/parsers.py\u001b[0m in \u001b[0;36m_read\u001b[0;34m(filepath_or_buffer, kwds)\u001b[0m\n\u001b[1;32m    460\u001b[0m \u001b[0;34m\u001b[0m\u001b[0m\n\u001b[1;32m    461\u001b[0m     \u001b[0;31m# Create the parser.\u001b[0m\u001b[0;34m\u001b[0m\u001b[0;34m\u001b[0m\u001b[0;34m\u001b[0m\u001b[0m\n\u001b[0;32m--> 462\u001b[0;31m     \u001b[0mparser\u001b[0m \u001b[0;34m=\u001b[0m \u001b[0mTextFileReader\u001b[0m\u001b[0;34m(\u001b[0m\u001b[0mfilepath_or_buffer\u001b[0m\u001b[0;34m,\u001b[0m \u001b[0;34m**\u001b[0m\u001b[0mkwds\u001b[0m\u001b[0;34m)\u001b[0m\u001b[0;34m\u001b[0m\u001b[0;34m\u001b[0m\u001b[0m\n\u001b[0m\u001b[1;32m    463\u001b[0m \u001b[0;34m\u001b[0m\u001b[0m\n\u001b[1;32m    464\u001b[0m     \u001b[0;32mif\u001b[0m \u001b[0mchunksize\u001b[0m \u001b[0;32mor\u001b[0m \u001b[0miterator\u001b[0m\u001b[0;34m:\u001b[0m\u001b[0;34m\u001b[0m\u001b[0;34m\u001b[0m\u001b[0m\n",
      "\u001b[0;32m~/opt/anaconda3/lib/python3.8/site-packages/pandas/io/parsers.py\u001b[0m in \u001b[0;36m__init__\u001b[0;34m(self, f, engine, **kwds)\u001b[0m\n\u001b[1;32m    817\u001b[0m             \u001b[0mself\u001b[0m\u001b[0;34m.\u001b[0m\u001b[0moptions\u001b[0m\u001b[0;34m[\u001b[0m\u001b[0;34m\"has_index_names\"\u001b[0m\u001b[0;34m]\u001b[0m \u001b[0;34m=\u001b[0m \u001b[0mkwds\u001b[0m\u001b[0;34m[\u001b[0m\u001b[0;34m\"has_index_names\"\u001b[0m\u001b[0;34m]\u001b[0m\u001b[0;34m\u001b[0m\u001b[0;34m\u001b[0m\u001b[0m\n\u001b[1;32m    818\u001b[0m \u001b[0;34m\u001b[0m\u001b[0m\n\u001b[0;32m--> 819\u001b[0;31m         \u001b[0mself\u001b[0m\u001b[0;34m.\u001b[0m\u001b[0m_engine\u001b[0m \u001b[0;34m=\u001b[0m \u001b[0mself\u001b[0m\u001b[0;34m.\u001b[0m\u001b[0m_make_engine\u001b[0m\u001b[0;34m(\u001b[0m\u001b[0mself\u001b[0m\u001b[0;34m.\u001b[0m\u001b[0mengine\u001b[0m\u001b[0;34m)\u001b[0m\u001b[0;34m\u001b[0m\u001b[0;34m\u001b[0m\u001b[0m\n\u001b[0m\u001b[1;32m    820\u001b[0m \u001b[0;34m\u001b[0m\u001b[0m\n\u001b[1;32m    821\u001b[0m     \u001b[0;32mdef\u001b[0m \u001b[0mclose\u001b[0m\u001b[0;34m(\u001b[0m\u001b[0mself\u001b[0m\u001b[0;34m)\u001b[0m\u001b[0;34m:\u001b[0m\u001b[0;34m\u001b[0m\u001b[0;34m\u001b[0m\u001b[0m\n",
      "\u001b[0;32m~/opt/anaconda3/lib/python3.8/site-packages/pandas/io/parsers.py\u001b[0m in \u001b[0;36m_make_engine\u001b[0;34m(self, engine)\u001b[0m\n\u001b[1;32m   1048\u001b[0m             )\n\u001b[1;32m   1049\u001b[0m         \u001b[0;31m# error: Too many arguments for \"ParserBase\"\u001b[0m\u001b[0;34m\u001b[0m\u001b[0;34m\u001b[0m\u001b[0;34m\u001b[0m\u001b[0m\n\u001b[0;32m-> 1050\u001b[0;31m         \u001b[0;32mreturn\u001b[0m \u001b[0mmapping\u001b[0m\u001b[0;34m[\u001b[0m\u001b[0mengine\u001b[0m\u001b[0;34m]\u001b[0m\u001b[0;34m(\u001b[0m\u001b[0mself\u001b[0m\u001b[0;34m.\u001b[0m\u001b[0mf\u001b[0m\u001b[0;34m,\u001b[0m \u001b[0;34m**\u001b[0m\u001b[0mself\u001b[0m\u001b[0;34m.\u001b[0m\u001b[0moptions\u001b[0m\u001b[0;34m)\u001b[0m  \u001b[0;31m# type: ignore[call-arg]\u001b[0m\u001b[0;34m\u001b[0m\u001b[0;34m\u001b[0m\u001b[0m\n\u001b[0m\u001b[1;32m   1051\u001b[0m \u001b[0;34m\u001b[0m\u001b[0m\n\u001b[1;32m   1052\u001b[0m     \u001b[0;32mdef\u001b[0m \u001b[0m_failover_to_python\u001b[0m\u001b[0;34m(\u001b[0m\u001b[0mself\u001b[0m\u001b[0;34m)\u001b[0m\u001b[0;34m:\u001b[0m\u001b[0;34m\u001b[0m\u001b[0;34m\u001b[0m\u001b[0m\n",
      "\u001b[0;32m~/opt/anaconda3/lib/python3.8/site-packages/pandas/io/parsers.py\u001b[0m in \u001b[0;36m__init__\u001b[0;34m(self, src, **kwds)\u001b[0m\n\u001b[1;32m   1865\u001b[0m \u001b[0;34m\u001b[0m\u001b[0m\n\u001b[1;32m   1866\u001b[0m         \u001b[0;31m# open handles\u001b[0m\u001b[0;34m\u001b[0m\u001b[0;34m\u001b[0m\u001b[0;34m\u001b[0m\u001b[0m\n\u001b[0;32m-> 1867\u001b[0;31m         \u001b[0mself\u001b[0m\u001b[0;34m.\u001b[0m\u001b[0m_open_handles\u001b[0m\u001b[0;34m(\u001b[0m\u001b[0msrc\u001b[0m\u001b[0;34m,\u001b[0m \u001b[0mkwds\u001b[0m\u001b[0;34m)\u001b[0m\u001b[0;34m\u001b[0m\u001b[0;34m\u001b[0m\u001b[0m\n\u001b[0m\u001b[1;32m   1868\u001b[0m         \u001b[0;32massert\u001b[0m \u001b[0mself\u001b[0m\u001b[0;34m.\u001b[0m\u001b[0mhandles\u001b[0m \u001b[0;32mis\u001b[0m \u001b[0;32mnot\u001b[0m \u001b[0;32mNone\u001b[0m\u001b[0;34m\u001b[0m\u001b[0;34m\u001b[0m\u001b[0m\n\u001b[1;32m   1869\u001b[0m         \u001b[0;32mfor\u001b[0m \u001b[0mkey\u001b[0m \u001b[0;32min\u001b[0m \u001b[0;34m(\u001b[0m\u001b[0;34m\"storage_options\"\u001b[0m\u001b[0;34m,\u001b[0m \u001b[0;34m\"encoding\"\u001b[0m\u001b[0;34m,\u001b[0m \u001b[0;34m\"memory_map\"\u001b[0m\u001b[0;34m,\u001b[0m \u001b[0;34m\"compression\"\u001b[0m\u001b[0;34m)\u001b[0m\u001b[0;34m:\u001b[0m\u001b[0;34m\u001b[0m\u001b[0;34m\u001b[0m\u001b[0m\n",
      "\u001b[0;32m~/opt/anaconda3/lib/python3.8/site-packages/pandas/io/parsers.py\u001b[0m in \u001b[0;36m_open_handles\u001b[0;34m(self, src, kwds)\u001b[0m\n\u001b[1;32m   1360\u001b[0m         \u001b[0mLet\u001b[0m \u001b[0mthe\u001b[0m \u001b[0mreaders\u001b[0m \u001b[0mopen\u001b[0m \u001b[0mIOHanldes\u001b[0m \u001b[0mafter\u001b[0m \u001b[0mthey\u001b[0m \u001b[0mare\u001b[0m \u001b[0mdone\u001b[0m \u001b[0;32mwith\u001b[0m \u001b[0mtheir\u001b[0m \u001b[0mpotential\u001b[0m \u001b[0mraises\u001b[0m\u001b[0;34m.\u001b[0m\u001b[0;34m\u001b[0m\u001b[0;34m\u001b[0m\u001b[0m\n\u001b[1;32m   1361\u001b[0m         \"\"\"\n\u001b[0;32m-> 1362\u001b[0;31m         self.handles = get_handle(\n\u001b[0m\u001b[1;32m   1363\u001b[0m             \u001b[0msrc\u001b[0m\u001b[0;34m,\u001b[0m\u001b[0;34m\u001b[0m\u001b[0;34m\u001b[0m\u001b[0m\n\u001b[1;32m   1364\u001b[0m             \u001b[0;34m\"r\"\u001b[0m\u001b[0;34m,\u001b[0m\u001b[0;34m\u001b[0m\u001b[0;34m\u001b[0m\u001b[0m\n",
      "\u001b[0;32m~/opt/anaconda3/lib/python3.8/site-packages/pandas/io/common.py\u001b[0m in \u001b[0;36mget_handle\u001b[0;34m(path_or_buf, mode, encoding, compression, memory_map, is_text, errors, storage_options)\u001b[0m\n\u001b[1;32m    640\u001b[0m                 \u001b[0merrors\u001b[0m \u001b[0;34m=\u001b[0m \u001b[0;34m\"replace\"\u001b[0m\u001b[0;34m\u001b[0m\u001b[0;34m\u001b[0m\u001b[0m\n\u001b[1;32m    641\u001b[0m             \u001b[0;31m# Encoding\u001b[0m\u001b[0;34m\u001b[0m\u001b[0;34m\u001b[0m\u001b[0;34m\u001b[0m\u001b[0m\n\u001b[0;32m--> 642\u001b[0;31m             handle = open(\n\u001b[0m\u001b[1;32m    643\u001b[0m                 \u001b[0mhandle\u001b[0m\u001b[0;34m,\u001b[0m\u001b[0;34m\u001b[0m\u001b[0;34m\u001b[0m\u001b[0m\n\u001b[1;32m    644\u001b[0m                 \u001b[0mioargs\u001b[0m\u001b[0;34m.\u001b[0m\u001b[0mmode\u001b[0m\u001b[0;34m,\u001b[0m\u001b[0;34m\u001b[0m\u001b[0;34m\u001b[0m\u001b[0m\n",
      "\u001b[0;31mFileNotFoundError\u001b[0m: [Errno 2] No such file or directory: '../../data/raw/members_of_congress_117.csv'"
     ]
    }
   ],
   "source": [
    "df_csv = pd.read_csv('../../data/raw/members_of_congress_117.csv')"
   ]
  },
  {
   "cell_type": "markdown",
   "id": "380a1947-87a0-4847-9c44-de454c5ea13e",
   "metadata": {},
   "source": [
    "#### Or an Excel file"
   ]
  },
  {
   "cell_type": "code",
   "execution_count": null,
   "id": "31951550-48ca-4192-b97f-0be4534f6a8c",
   "metadata": {},
   "outputs": [],
   "source": [
    "df_excel = pd.read_excel('../../data/raw/members_of_congress_117_excel.xlsx')"
   ]
  },
  {
   "cell_type": "markdown",
   "id": "9a11189b-ea78-4e18-a569-0ad5745fab5d",
   "metadata": {},
   "source": [
    "#### Import from a URL"
   ]
  },
  {
   "cell_type": "code",
   "execution_count": null,
   "id": "0300f487-255d-42bd-adb9-479eaf3cce3d",
   "metadata": {},
   "outputs": [],
   "source": [
    "df_url = pd.read_csv('https://raw.githubusercontent.com/stiles/notebooks/master/congress/output/members_of_congress_117.csv')"
   ]
  },
  {
   "cell_type": "markdown",
   "id": "9497a313-b61a-4e08-bf38-c52213b80cb8",
   "metadata": {},
   "source": [
    "#### Make a copy and assign a new variable"
   ]
  },
  {
   "cell_type": "code",
   "execution_count": null,
   "id": "305ad59e-953e-44b9-9933-ec0139644f85",
   "metadata": {},
   "outputs": [],
   "source": [
    "df = df_csv.copy()"
   ]
  },
  {
   "cell_type": "markdown",
   "id": "d98b1ea9-9c43-443d-9324-3b2b1c18bb8f",
   "metadata": {},
   "source": [
    "---"
   ]
  },
  {
   "cell_type": "markdown",
   "id": "ea417047-b03b-49eb-867f-e2b6473423fc",
   "metadata": {},
   "source": [
    "## Understanding the dataframe"
   ]
  },
  {
   "cell_type": "markdown",
   "id": "c1cdf367-efe1-4320-a311-bae9aa1a09e5",
   "metadata": {},
   "source": [
    "#### Use the `describe()` to get summary stats on any numerical columns"
   ]
  },
  {
   "cell_type": "code",
   "execution_count": null,
   "id": "83d614e9-1c6f-4229-8e5e-86f53789e6a4",
   "metadata": {},
   "outputs": [],
   "source": [
    "df.describe()"
   ]
  },
  {
   "cell_type": "markdown",
   "id": "6d67e9ec-23d9-49ab-8c42-eefd20654dc9",
   "metadata": {},
   "source": [
    "#### Use the `info()` method for data types and columns"
   ]
  },
  {
   "cell_type": "code",
   "execution_count": null,
   "id": "cebe1d23-7b0e-4ca6-8370-8360aefb4638",
   "metadata": {},
   "outputs": [],
   "source": [
    "df.info()"
   ]
  },
  {
   "cell_type": "code",
   "execution_count": null,
   "id": "ba184fae-a657-4e30-9950-9a0938c457fd",
   "metadata": {},
   "outputs": [],
   "source": [
    "df.columns"
   ]
  },
  {
   "cell_type": "code",
   "execution_count": null,
   "id": "1e6075e9-e72f-4064-9ed2-d96ddceab6f7",
   "metadata": {},
   "outputs": [],
   "source": [
    "df.columns = df.columns.str.upper()"
   ]
  },
  {
   "cell_type": "code",
   "execution_count": null,
   "id": "1af1fa8e-8eb5-418f-ac14-695d86a29517",
   "metadata": {},
   "outputs": [],
   "source": [
    "###This changes all of the columns to upper case, .lower would make them lower"
   ]
  },
  {
   "cell_type": "code",
   "execution_count": null,
   "id": "a12b0d55-657e-4c64-810c-e6ff94611701",
   "metadata": {},
   "outputs": [],
   "source": [
    "df"
   ]
  },
  {
   "cell_type": "markdown",
   "id": "955c340f-3be4-4ca0-847a-1e9b5e0ca17a",
   "metadata": {},
   "source": [
    "#### Reading one column, or \"series\""
   ]
  },
  {
   "cell_type": "code",
   "execution_count": null,
   "id": "77f79094-3409-4c66-b75d-3c8988512725",
   "metadata": {},
   "outputs": [],
   "source": [
    "df['LAST_NAME']"
   ]
  },
  {
   "cell_type": "markdown",
   "id": "a4dcaac0-4bd7-44db-9323-189e1c0c5d03",
   "metadata": {},
   "source": [
    "#### Counting values in categorical or string columns"
   ]
  },
  {
   "cell_type": "code",
   "execution_count": null,
   "id": "a4b240ea-79ce-47a6-843b-dde498a8b2f6",
   "metadata": {},
   "outputs": [],
   "source": [
    "df['PARTY'].value_counts()"
   ]
  },
  {
   "cell_type": "markdown",
   "id": "96a0ce3a-6e6b-4ff3-86ba-dc591712e431",
   "metadata": {},
   "source": [
    "---"
   ]
  },
  {
   "cell_type": "markdown",
   "id": "b0566aed-7d07-40d2-bd37-07a7948f71fc",
   "metadata": {},
   "source": [
    "## Interacting with the data"
   ]
  },
  {
   "cell_type": "markdown",
   "id": "19e7561e-080d-49e9-94bb-58a0d89ebc28",
   "metadata": {},
   "source": [
    "#### Use the `head()` method to see the first *n* rows"
   ]
  },
  {
   "cell_type": "code",
   "execution_count": null,
   "id": "1a8149c6-a1c3-40ba-9194-37614fbcffa6",
   "metadata": {},
   "outputs": [],
   "source": [
    "df.head()"
   ]
  },
  {
   "cell_type": "markdown",
   "id": "be3a7905-a4e0-4f2d-93de-2380a33af7e4",
   "metadata": {},
   "source": [
    "#### Use the `tail()` method to see the first *n* rows"
   ]
  },
  {
   "cell_type": "code",
   "execution_count": null,
   "id": "4e5242ab-18e3-4c68-aa80-cb501088db15",
   "metadata": {},
   "outputs": [],
   "source": [
    "df.tail()"
   ]
  },
  {
   "cell_type": "markdown",
   "id": "6f164d2b-94a1-4eb5-8164-173fcf44fac9",
   "metadata": {},
   "source": [
    "#### Sorting with the `sort_values()` method to find member with most seniority"
   ]
  },
  {
   "cell_type": "code",
   "execution_count": null,
   "id": "9fc83bd1-b9cd-457a-b43f-f8aecc974528",
   "metadata": {},
   "outputs": [],
   "source": [
    "df.sort_values('SENIORITY', ascending = True).head()"
   ]
  },
  {
   "cell_type": "code",
   "execution_count": null,
   "id": "7d095f59-528d-4846-860a-7f6a05e4f9ed",
   "metadata": {},
   "outputs": [],
   "source": [
    "df.sort_values('SENIORITY', ascending = False).head()"
   ]
  },
  {
   "cell_type": "markdown",
   "id": "581f1540-05fd-4481-8b61-a2ff0f9a9040",
   "metadata": {},
   "source": [
    "#### Sorting with the `sort_values()` method to find member who's most liberal or conservative"
   ]
  },
  {
   "cell_type": "code",
   "execution_count": null,
   "id": "b52ba59f-8e98-47d1-a02d-5879aade1a3b",
   "metadata": {},
   "outputs": [],
   "source": [
    "df.sort_values('VOTES_WITH_PARTY_PCT' , ascending = True).head()"
   ]
  },
  {
   "cell_type": "code",
   "execution_count": null,
   "id": "74062319-1b67-4030-9b2d-f75950f4416d",
   "metadata": {},
   "outputs": [],
   "source": [
    "df.sort_values('VOTES_WITH_PARTY_PCT' , ascending = False).head()"
   ]
  },
  {
   "cell_type": "markdown",
   "id": "b8ee2ba7-ab22-43e2-ad37-56b4274be513",
   "metadata": {},
   "source": [
    "---"
   ]
  },
  {
   "cell_type": "markdown",
   "id": "a148ec98-2df7-44e5-9ffc-4d38a0239bd6",
   "metadata": {},
   "source": [
    "## What questions would you ask of this dataset? "
   ]
  },
  {
   "cell_type": "code",
   "execution_count": null,
   "id": "a30eeb7c-53e0-4dae-b296-f58f4a1161d1",
   "metadata": {},
   "outputs": [],
   "source": [
    "df.groupby(['STATE'])['DW_NOMINATE'].mean()"
   ]
  },
  {
   "cell_type": "code",
   "execution_count": null,
   "id": "835fca97-b802-4d8d-89f8-bf8cd9a1dd47",
   "metadata": {},
   "outputs": [],
   "source": [
    "df.groupby(['STATE'])['SENIORITY'].mean().sort_values(ascending = False)"
   ]
  },
  {
   "cell_type": "code",
   "execution_count": null,
   "id": "27650e00-2693-4a01-8b16-7dd03c895a88",
   "metadata": {},
   "outputs": [],
   "source": [
    "df.groupby(['STATE'])['SENIORITY'].max().sort_values(ascending = False)"
   ]
  },
  {
   "cell_type": "code",
   "execution_count": null,
   "id": "dc896555-81fa-452d-b703-2d5e7f86e7a2",
   "metadata": {},
   "outputs": [],
   "source": [
    "df.groupby(['STATE'])['SENIORITY'].median().sort_values(ascending = False)"
   ]
  },
  {
   "cell_type": "code",
   "execution_count": null,
   "id": "241f9ced-bc95-4992-b2d3-c1272de60365",
   "metadata": {},
   "outputs": [],
   "source": [
    "df.groupby(['STATE'])['SENIORITY'].min().sort_values(ascending = False)"
   ]
  },
  {
   "cell_type": "code",
   "execution_count": null,
   "id": "38e03b87-0956-4587-ab3d-6dcf3418ce39",
   "metadata": {},
   "outputs": [],
   "source": []
  },
  {
   "cell_type": "code",
   "execution_count": null,
   "id": "02e01f29-16a1-4b23-af47-2a193983fd71",
   "metadata": {},
   "outputs": [],
   "source": []
  },
  {
   "cell_type": "code",
   "execution_count": null,
   "id": "10d35404-5b9f-4080-83cb-e30943254a58",
   "metadata": {},
   "outputs": [],
   "source": []
  },
  {
   "cell_type": "code",
   "execution_count": null,
   "id": "4ab68b05-ab54-453e-b059-1eda6e7245f4",
   "metadata": {},
   "outputs": [],
   "source": []
  },
  {
   "cell_type": "code",
   "execution_count": null,
   "id": "2e80be9b-e324-4d23-8d35-f77eba6a915a",
   "metadata": {},
   "outputs": [],
   "source": []
  },
  {
   "cell_type": "markdown",
   "id": "2b848a56-d565-4943-b7f9-3a61ebc17b55",
   "metadata": {},
   "source": [
    "---"
   ]
  },
  {
   "cell_type": "markdown",
   "id": "3ec2d9c7-8609-496d-9f47-6801dee7920f",
   "metadata": {},
   "source": [
    "## Export"
   ]
  },
  {
   "cell_type": "code",
   "execution_count": null,
   "id": "84ad26ed-abeb-446e-98c7-56ae59ccd638",
   "metadata": {},
   "outputs": [],
   "source": [
    "df.to_csv('../../data/processed/members_of_congress_117.csv', index=False)"
   ]
  },
  {
   "cell_type": "code",
   "execution_count": null,
   "id": "dedb9f40-4b4d-43df-a64c-305770298c00",
   "metadata": {},
   "outputs": [],
   "source": [
    "# This exports it out as a CSV"
   ]
  },
  {
   "cell_type": "code",
   "execution_count": null,
   "id": "29b8e0ad-51a4-49ad-9b60-eb901d5debd4",
   "metadata": {},
   "outputs": [],
   "source": [
    "df.to_excel('../../data/processed/members_of_congress_117.xlsx')"
   ]
  }
 ],
 "metadata": {
  "kernelspec": {
   "display_name": "Python 3",
   "language": "python",
   "name": "python3"
  },
  "language_info": {
   "codemirror_mode": {
    "name": "ipython",
    "version": 3
   },
   "file_extension": ".py",
   "mimetype": "text/x-python",
   "name": "python",
   "nbconvert_exporter": "python",
   "pygments_lexer": "ipython3",
   "version": "3.8.8"
  }
 },
 "nbformat": 4,
 "nbformat_minor": 5
}

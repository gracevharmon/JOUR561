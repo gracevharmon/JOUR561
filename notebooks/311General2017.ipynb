{
 "cells": [
  {
   "cell_type": "code",
   "execution_count": 2,
   "id": "951151b5-ac13-44d1-ba7e-b6a0d1d9d3b4",
   "metadata": {},
   "outputs": [],
   "source": [
    "import pandas as pd"
   ]
  },
  {
   "cell_type": "code",
   "execution_count": 3,
   "id": "0476bd77-4732-43f9-a228-68d6b264f62b",
   "metadata": {},
   "outputs": [],
   "source": [
    "df_csv = pd.read_csv('../data/rawLA311/2017MyLA311ServiceRequestData.csv', low_memory=False, \n",
    "                     \n",
    "                     dtype={\n",
    "                    'Suffix': 'str',\n",
    "                     } \n",
    "                    \n",
    "                    )"
   ]
  },
  {
   "cell_type": "code",
   "execution_count": 5,
   "id": "7fa7a778-c793-42f6-881e-58a4b79754aa",
   "metadata": {},
   "outputs": [],
   "source": [
    "!cat ../data/rawLA311/*.csv > ../data/rawLA311/all.csv"
   ]
  },
  {
   "cell_type": "code",
   "execution_count": 3,
   "id": "4c3b1c69-7e61-4374-9c3c-ffa911d5fda6",
   "metadata": {},
   "outputs": [],
   "source": []
  },
  {
   "cell_type": "code",
   "execution_count": 3,
   "id": "ff0598f8-199e-4308-863b-27f921a7959f",
   "metadata": {},
   "outputs": [],
   "source": []
  },
  {
   "cell_type": "code",
   "execution_count": 3,
   "id": "5e9bf600-d7d5-4981-ad08-b1fe6bc80801",
   "metadata": {},
   "outputs": [],
   "source": []
  },
  {
   "cell_type": "code",
   "execution_count": 3,
   "id": "84b1f97f-6c8c-4c53-81c8-14c355404cda",
   "metadata": {},
   "outputs": [],
   "source": [
    "df = df_csv"
   ]
  },
  {
   "cell_type": "code",
   "execution_count": 4,
   "id": "3978542b-ada7-49f1-a51b-b9cddb531bca",
   "metadata": {},
   "outputs": [
    {
     "name": "stdout",
     "output_type": "stream",
     "text": [
      "<class 'pandas.core.frame.DataFrame'>\n",
      "RangeIndex: 1131558 entries, 0 to 1131557\n",
      "Data columns (total 33 columns):\n",
      " #   Column              Non-Null Count    Dtype  \n",
      "---  ------              --------------    -----  \n",
      " 0   SRNumber            1131558 non-null  object \n",
      " 1   CreatedDate         1131558 non-null  object \n",
      " 2   UpdatedDate         1131558 non-null  object \n",
      " 3   ActionTaken         1131558 non-null  object \n",
      " 4   Owner               1131558 non-null  object \n",
      " 5   RequestType         1131558 non-null  object \n",
      " 6   Status              1131558 non-null  object \n",
      " 7   RequestSource       1131558 non-null  object \n",
      " 8   MobileOS            191378 non-null   object \n",
      " 9   Anonymous           1131558 non-null  object \n",
      " 10  AssignTo            1111348 non-null  object \n",
      " 11  ServiceDate         1077045 non-null  object \n",
      " 12  ClosedDate          1131439 non-null  object \n",
      " 13  AddressVerified     1131558 non-null  object \n",
      " 14  ApproximateAddress  792973 non-null   object \n",
      " 15  Address             1131490 non-null  object \n",
      " 16  HouseNumber         1049146 non-null  float64\n",
      " 17  Direction           1047703 non-null  object \n",
      " 18  StreetName          1060668 non-null  object \n",
      " 19  Suffix              1037801 non-null  object \n",
      " 20  ZipCode             1129604 non-null  object \n",
      " 21  Latitude            912788 non-null   float64\n",
      " 22  Longitude           912788 non-null   float64\n",
      " 23  Location            912788 non-null   object \n",
      " 24  TBMPage             1130908 non-null  float64\n",
      " 25  TBMColumn           1130908 non-null  object \n",
      " 26  TBMRow              1130908 non-null  float64\n",
      " 27  APC                 1130901 non-null  object \n",
      " 28  CD                  1130908 non-null  float64\n",
      " 29  CDMember            1129535 non-null  object \n",
      " 30  NC                  1115817 non-null  float64\n",
      " 31  NCName              1116361 non-null  object \n",
      " 32  PolicePrecinct      1130347 non-null  object \n",
      "dtypes: float64(7), object(26)\n",
      "memory usage: 284.9+ MB\n"
     ]
    }
   ],
   "source": [
    "df.info()"
   ]
  },
  {
   "cell_type": "code",
   "execution_count": null,
   "id": "146b41a6-59eb-45dc-8b45-e7898be70fb8",
   "metadata": {},
   "outputs": [],
   "source": []
  }
 ],
 "metadata": {
  "kernelspec": {
   "display_name": "Python 3",
   "language": "python",
   "name": "python3"
  },
  "language_info": {
   "codemirror_mode": {
    "name": "ipython",
    "version": 3
   },
   "file_extension": ".py",
   "mimetype": "text/x-python",
   "name": "python",
   "nbconvert_exporter": "python",
   "pygments_lexer": "ipython3",
   "version": "3.8.8"
  }
 },
 "nbformat": 4,
 "nbformat_minor": 5
}
